{
 "cells": [
  {
   "cell_type": "code",
   "execution_count": 1,
   "id": "abb88c98",
   "metadata": {},
   "outputs": [],
   "source": [
    "import pandas as pd\n",
    "import numpy as np\n",
    "\n",
    "from modules.seed_germination_parameters import MGT, GP, Z\n",
    "from modules.stat_test import tStudent_test, Mann_Whitney_U_test"
   ]
  },
  {
   "cell_type": "code",
   "execution_count": 2,
   "id": "4f6132e5",
   "metadata": {},
   "outputs": [
    {
     "data": {
      "text/html": [
       "<div>\n",
       "<style scoped>\n",
       "    .dataframe tbody tr th:only-of-type {\n",
       "        vertical-align: middle;\n",
       "    }\n",
       "\n",
       "    .dataframe tbody tr th {\n",
       "        vertical-align: top;\n",
       "    }\n",
       "\n",
       "    .dataframe thead th {\n",
       "        text-align: right;\n",
       "    }\n",
       "</style>\n",
       "<table border=\"1\" class=\"dataframe\">\n",
       "  <thead>\n",
       "    <tr style=\"text-align: right;\">\n",
       "      <th></th>\n",
       "      <th>2022-03-03 00:00:00</th>\n",
       "      <th>2022-03-04 00:00:00</th>\n",
       "      <th>2022-03-05 00:00:00</th>\n",
       "      <th>2022-03-06 00:00:00</th>\n",
       "      <th>2022-03-07 00:00:00</th>\n",
       "      <th>2022-03-08 00:00:00</th>\n",
       "      <th>2022-03-09 00:00:00</th>\n",
       "      <th>2022-03-10 00:00:00</th>\n",
       "      <th>2022-03-11 00:00:00</th>\n",
       "      <th>2022-03-12 00:00:00</th>\n",
       "      <th>...</th>\n",
       "      <th>2022-03-22 00:00:00</th>\n",
       "      <th>2022-03-23 00:00:00</th>\n",
       "      <th>2022-03-24 00:00:00</th>\n",
       "      <th>2022-03-25 00:00:00</th>\n",
       "      <th>2022-03-26 00:00:00</th>\n",
       "      <th>2022-03-27 00:00:00</th>\n",
       "      <th>2022-03-28 00:00:00</th>\n",
       "      <th>2022-03-29 00:00:00</th>\n",
       "      <th>2022-03-30 00:00:00</th>\n",
       "      <th>2022-03-31 00:00:00</th>\n",
       "    </tr>\n",
       "  </thead>\n",
       "  <tbody>\n",
       "    <tr>\n",
       "      <th>0</th>\n",
       "      <td>0</td>\n",
       "      <td>0</td>\n",
       "      <td>1</td>\n",
       "      <td>14</td>\n",
       "      <td>11</td>\n",
       "      <td>12</td>\n",
       "      <td>3</td>\n",
       "      <td>3</td>\n",
       "      <td>2</td>\n",
       "      <td>0</td>\n",
       "      <td>...</td>\n",
       "      <td>0.0</td>\n",
       "      <td>0.0</td>\n",
       "      <td>0.0</td>\n",
       "      <td>0.0</td>\n",
       "      <td>0.0</td>\n",
       "      <td>0.0</td>\n",
       "      <td>0.0</td>\n",
       "      <td>0.0</td>\n",
       "      <td>0.0</td>\n",
       "      <td>0.0</td>\n",
       "    </tr>\n",
       "    <tr>\n",
       "      <th>1</th>\n",
       "      <td>0</td>\n",
       "      <td>0</td>\n",
       "      <td>2</td>\n",
       "      <td>14</td>\n",
       "      <td>22</td>\n",
       "      <td>4</td>\n",
       "      <td>2</td>\n",
       "      <td>0</td>\n",
       "      <td>1</td>\n",
       "      <td>1</td>\n",
       "      <td>...</td>\n",
       "      <td>0.0</td>\n",
       "      <td>0.0</td>\n",
       "      <td>0.0</td>\n",
       "      <td>0.0</td>\n",
       "      <td>0.0</td>\n",
       "      <td>0.0</td>\n",
       "      <td>0.0</td>\n",
       "      <td>0.0</td>\n",
       "      <td>0.0</td>\n",
       "      <td>0.0</td>\n",
       "    </tr>\n",
       "    <tr>\n",
       "      <th>2</th>\n",
       "      <td>0</td>\n",
       "      <td>0</td>\n",
       "      <td>1</td>\n",
       "      <td>8</td>\n",
       "      <td>14</td>\n",
       "      <td>14</td>\n",
       "      <td>4</td>\n",
       "      <td>1</td>\n",
       "      <td>1</td>\n",
       "      <td>3</td>\n",
       "      <td>...</td>\n",
       "      <td>NaN</td>\n",
       "      <td>NaN</td>\n",
       "      <td>NaN</td>\n",
       "      <td>NaN</td>\n",
       "      <td>NaN</td>\n",
       "      <td>NaN</td>\n",
       "      <td>NaN</td>\n",
       "      <td>NaN</td>\n",
       "      <td>NaN</td>\n",
       "      <td>NaN</td>\n",
       "    </tr>\n",
       "    <tr>\n",
       "      <th>3</th>\n",
       "      <td>0</td>\n",
       "      <td>0</td>\n",
       "      <td>3</td>\n",
       "      <td>19</td>\n",
       "      <td>9</td>\n",
       "      <td>8</td>\n",
       "      <td>3</td>\n",
       "      <td>1</td>\n",
       "      <td>1</td>\n",
       "      <td>1</td>\n",
       "      <td>...</td>\n",
       "      <td>NaN</td>\n",
       "      <td>NaN</td>\n",
       "      <td>NaN</td>\n",
       "      <td>NaN</td>\n",
       "      <td>NaN</td>\n",
       "      <td>NaN</td>\n",
       "      <td>NaN</td>\n",
       "      <td>NaN</td>\n",
       "      <td>NaN</td>\n",
       "      <td>NaN</td>\n",
       "    </tr>\n",
       "    <tr>\n",
       "      <th>4</th>\n",
       "      <td>0</td>\n",
       "      <td>0</td>\n",
       "      <td>6</td>\n",
       "      <td>7</td>\n",
       "      <td>12</td>\n",
       "      <td>9</td>\n",
       "      <td>5</td>\n",
       "      <td>2</td>\n",
       "      <td>2</td>\n",
       "      <td>2</td>\n",
       "      <td>...</td>\n",
       "      <td>NaN</td>\n",
       "      <td>NaN</td>\n",
       "      <td>NaN</td>\n",
       "      <td>NaN</td>\n",
       "      <td>NaN</td>\n",
       "      <td>NaN</td>\n",
       "      <td>NaN</td>\n",
       "      <td>NaN</td>\n",
       "      <td>NaN</td>\n",
       "      <td>NaN</td>\n",
       "    </tr>\n",
       "  </tbody>\n",
       "</table>\n",
       "<p>5 rows × 29 columns</p>\n",
       "</div>"
      ],
      "text/plain": [
       "   2022-03-03 00:00:00  2022-03-04 00:00:00  2022-03-05 00:00:00  \\\n",
       "0                    0                    0                    1   \n",
       "1                    0                    0                    2   \n",
       "2                    0                    0                    1   \n",
       "3                    0                    0                    3   \n",
       "4                    0                    0                    6   \n",
       "\n",
       "   2022-03-06 00:00:00  2022-03-07 00:00:00  2022-03-08 00:00:00  \\\n",
       "0                   14                   11                   12   \n",
       "1                   14                   22                    4   \n",
       "2                    8                   14                   14   \n",
       "3                   19                    9                    8   \n",
       "4                    7                   12                    9   \n",
       "\n",
       "   2022-03-09 00:00:00  2022-03-10 00:00:00  2022-03-11 00:00:00  \\\n",
       "0                    3                    3                    2   \n",
       "1                    2                    0                    1   \n",
       "2                    4                    1                    1   \n",
       "3                    3                    1                    1   \n",
       "4                    5                    2                    2   \n",
       "\n",
       "   2022-03-12 00:00:00  ...  2022-03-22 00:00:00  2022-03-23 00:00:00  \\\n",
       "0                    0  ...                  0.0                  0.0   \n",
       "1                    1  ...                  0.0                  0.0   \n",
       "2                    3  ...                  NaN                  NaN   \n",
       "3                    1  ...                  NaN                  NaN   \n",
       "4                    2  ...                  NaN                  NaN   \n",
       "\n",
       "   2022-03-24 00:00:00  2022-03-25 00:00:00  2022-03-26 00:00:00  \\\n",
       "0                  0.0                  0.0                  0.0   \n",
       "1                  0.0                  0.0                  0.0   \n",
       "2                  NaN                  NaN                  NaN   \n",
       "3                  NaN                  NaN                  NaN   \n",
       "4                  NaN                  NaN                  NaN   \n",
       "\n",
       "   2022-03-27 00:00:00  2022-03-28 00:00:00  2022-03-29 00:00:00  \\\n",
       "0                  0.0                  0.0                  0.0   \n",
       "1                  0.0                  0.0                  0.0   \n",
       "2                  NaN                  NaN                  NaN   \n",
       "3                  NaN                  NaN                  NaN   \n",
       "4                  NaN                  NaN                  NaN   \n",
       "\n",
       "   2022-03-30 00:00:00  2022-03-31 00:00:00  \n",
       "0                  0.0                  0.0  \n",
       "1                  0.0                  0.0  \n",
       "2                  NaN                  NaN  \n",
       "3                  NaN                  NaN  \n",
       "4                  NaN                  NaN  \n",
       "\n",
       "[5 rows x 29 columns]"
      ]
     },
     "execution_count": 2,
     "metadata": {},
     "output_type": "execute_result"
    }
   ],
   "source": [
    "bare_rock_data = pd.read_csv('br.csv')\n",
    "bare_rock_data.drop('target', axis=1, inplace=True)\n",
    "bare_rock_data.head()"
   ]
  },
  {
   "cell_type": "code",
   "execution_count": 3,
   "id": "d94403fa",
   "metadata": {},
   "outputs": [],
   "source": [
    "bare_rock_data.fillna(0, axis=1, inplace=True)"
   ]
  },
  {
   "cell_type": "code",
   "execution_count": 4,
   "id": "267321a7",
   "metadata": {},
   "outputs": [
    {
     "data": {
      "text/html": [
       "<div>\n",
       "<style scoped>\n",
       "    .dataframe tbody tr th:only-of-type {\n",
       "        vertical-align: middle;\n",
       "    }\n",
       "\n",
       "    .dataframe tbody tr th {\n",
       "        vertical-align: top;\n",
       "    }\n",
       "\n",
       "    .dataframe thead th {\n",
       "        text-align: right;\n",
       "    }\n",
       "</style>\n",
       "<table border=\"1\" class=\"dataframe\">\n",
       "  <thead>\n",
       "    <tr style=\"text-align: right;\">\n",
       "      <th></th>\n",
       "      <th>2022-03-03 00:00:00</th>\n",
       "      <th>2022-03-04 00:00:00</th>\n",
       "      <th>2022-03-05 00:00:00</th>\n",
       "      <th>2022-03-06 00:00:00</th>\n",
       "      <th>2022-03-07 00:00:00</th>\n",
       "      <th>2022-03-08 00:00:00</th>\n",
       "      <th>2022-03-09 00:00:00</th>\n",
       "      <th>2022-03-10 00:00:00</th>\n",
       "      <th>2022-03-11 00:00:00</th>\n",
       "      <th>2022-03-12 00:00:00</th>\n",
       "      <th>...</th>\n",
       "      <th>2022-03-22 00:00:00</th>\n",
       "      <th>2022-03-23 00:00:00</th>\n",
       "      <th>2022-03-24 00:00:00</th>\n",
       "      <th>2022-03-25 00:00:00</th>\n",
       "      <th>2022-03-26 00:00:00</th>\n",
       "      <th>2022-03-27 00:00:00</th>\n",
       "      <th>2022-03-28 00:00:00</th>\n",
       "      <th>2022-03-29 00:00:00</th>\n",
       "      <th>2022-03-30 00:00:00</th>\n",
       "      <th>2022-03-31 00:00:00</th>\n",
       "    </tr>\n",
       "  </thead>\n",
       "  <tbody>\n",
       "    <tr>\n",
       "      <th>0</th>\n",
       "      <td>0</td>\n",
       "      <td>0</td>\n",
       "      <td>0</td>\n",
       "      <td>2</td>\n",
       "      <td>5</td>\n",
       "      <td>3</td>\n",
       "      <td>0</td>\n",
       "      <td>0</td>\n",
       "      <td>0</td>\n",
       "      <td>1</td>\n",
       "      <td>...</td>\n",
       "      <td>4.0</td>\n",
       "      <td>3.0</td>\n",
       "      <td>0.0</td>\n",
       "      <td>3.0</td>\n",
       "      <td>2.0</td>\n",
       "      <td>0.0</td>\n",
       "      <td>2.0</td>\n",
       "      <td>0.0</td>\n",
       "      <td>0.0</td>\n",
       "      <td>0.0</td>\n",
       "    </tr>\n",
       "    <tr>\n",
       "      <th>1</th>\n",
       "      <td>0</td>\n",
       "      <td>0</td>\n",
       "      <td>0</td>\n",
       "      <td>1</td>\n",
       "      <td>5</td>\n",
       "      <td>5</td>\n",
       "      <td>0</td>\n",
       "      <td>0</td>\n",
       "      <td>0</td>\n",
       "      <td>0</td>\n",
       "      <td>...</td>\n",
       "      <td>4.0</td>\n",
       "      <td>1.0</td>\n",
       "      <td>3.0</td>\n",
       "      <td>3.0</td>\n",
       "      <td>1.0</td>\n",
       "      <td>1.0</td>\n",
       "      <td>0.0</td>\n",
       "      <td>0.0</td>\n",
       "      <td>0.0</td>\n",
       "      <td>1.0</td>\n",
       "    </tr>\n",
       "    <tr>\n",
       "      <th>2</th>\n",
       "      <td>0</td>\n",
       "      <td>0</td>\n",
       "      <td>1</td>\n",
       "      <td>5</td>\n",
       "      <td>7</td>\n",
       "      <td>3</td>\n",
       "      <td>1</td>\n",
       "      <td>0</td>\n",
       "      <td>1</td>\n",
       "      <td>2</td>\n",
       "      <td>...</td>\n",
       "      <td>0.0</td>\n",
       "      <td>0.0</td>\n",
       "      <td>0.0</td>\n",
       "      <td>0.0</td>\n",
       "      <td>0.0</td>\n",
       "      <td>0.0</td>\n",
       "      <td>0.0</td>\n",
       "      <td>0.0</td>\n",
       "      <td>0.0</td>\n",
       "      <td>0.0</td>\n",
       "    </tr>\n",
       "    <tr>\n",
       "      <th>3</th>\n",
       "      <td>0</td>\n",
       "      <td>0</td>\n",
       "      <td>0</td>\n",
       "      <td>4</td>\n",
       "      <td>11</td>\n",
       "      <td>5</td>\n",
       "      <td>0</td>\n",
       "      <td>2</td>\n",
       "      <td>0</td>\n",
       "      <td>1</td>\n",
       "      <td>...</td>\n",
       "      <td>0.0</td>\n",
       "      <td>0.0</td>\n",
       "      <td>0.0</td>\n",
       "      <td>0.0</td>\n",
       "      <td>0.0</td>\n",
       "      <td>0.0</td>\n",
       "      <td>0.0</td>\n",
       "      <td>0.0</td>\n",
       "      <td>1.0</td>\n",
       "      <td>0.0</td>\n",
       "    </tr>\n",
       "    <tr>\n",
       "      <th>4</th>\n",
       "      <td>0</td>\n",
       "      <td>0</td>\n",
       "      <td>0</td>\n",
       "      <td>0</td>\n",
       "      <td>7</td>\n",
       "      <td>12</td>\n",
       "      <td>7</td>\n",
       "      <td>5</td>\n",
       "      <td>5</td>\n",
       "      <td>1</td>\n",
       "      <td>...</td>\n",
       "      <td>1.0</td>\n",
       "      <td>0.0</td>\n",
       "      <td>0.0</td>\n",
       "      <td>0.0</td>\n",
       "      <td>1.0</td>\n",
       "      <td>0.0</td>\n",
       "      <td>0.0</td>\n",
       "      <td>0.0</td>\n",
       "      <td>1.0</td>\n",
       "      <td>0.0</td>\n",
       "    </tr>\n",
       "  </tbody>\n",
       "</table>\n",
       "<p>5 rows × 29 columns</p>\n",
       "</div>"
      ],
      "text/plain": [
       "   2022-03-03 00:00:00  2022-03-04 00:00:00  2022-03-05 00:00:00  \\\n",
       "0                    0                    0                    0   \n",
       "1                    0                    0                    0   \n",
       "2                    0                    0                    1   \n",
       "3                    0                    0                    0   \n",
       "4                    0                    0                    0   \n",
       "\n",
       "   2022-03-06 00:00:00  2022-03-07 00:00:00  2022-03-08 00:00:00  \\\n",
       "0                    2                    5                    3   \n",
       "1                    1                    5                    5   \n",
       "2                    5                    7                    3   \n",
       "3                    4                   11                    5   \n",
       "4                    0                    7                   12   \n",
       "\n",
       "   2022-03-09 00:00:00  2022-03-10 00:00:00  2022-03-11 00:00:00  \\\n",
       "0                    0                    0                    0   \n",
       "1                    0                    0                    0   \n",
       "2                    1                    0                    1   \n",
       "3                    0                    2                    0   \n",
       "4                    7                    5                    5   \n",
       "\n",
       "   2022-03-12 00:00:00  ...  2022-03-22 00:00:00  2022-03-23 00:00:00  \\\n",
       "0                    1  ...                  4.0                  3.0   \n",
       "1                    0  ...                  4.0                  1.0   \n",
       "2                    2  ...                  0.0                  0.0   \n",
       "3                    1  ...                  0.0                  0.0   \n",
       "4                    1  ...                  1.0                  0.0   \n",
       "\n",
       "   2022-03-24 00:00:00  2022-03-25 00:00:00  2022-03-26 00:00:00  \\\n",
       "0                  0.0                  3.0                  2.0   \n",
       "1                  3.0                  3.0                  1.0   \n",
       "2                  0.0                  0.0                  0.0   \n",
       "3                  0.0                  0.0                  0.0   \n",
       "4                  0.0                  0.0                  1.0   \n",
       "\n",
       "   2022-03-27 00:00:00  2022-03-28 00:00:00  2022-03-29 00:00:00  \\\n",
       "0                  0.0                  2.0                  0.0   \n",
       "1                  1.0                  0.0                  0.0   \n",
       "2                  0.0                  0.0                  0.0   \n",
       "3                  0.0                  0.0                  0.0   \n",
       "4                  0.0                  0.0                  0.0   \n",
       "\n",
       "   2022-03-30 00:00:00  2022-03-31 00:00:00  \n",
       "0                  0.0                  0.0  \n",
       "1                  0.0                  1.0  \n",
       "2                  0.0                  0.0  \n",
       "3                  1.0                  0.0  \n",
       "4                  1.0                  0.0  \n",
       "\n",
       "[5 rows x 29 columns]"
      ]
     },
     "execution_count": 4,
     "metadata": {},
     "output_type": "execute_result"
    }
   ],
   "source": [
    "top_soil_data = pd.read_csv('ts.csv')\n",
    "top_soil_data.drop('target', axis=1, inplace=True)\n",
    "top_soil_data.head()"
   ]
  },
  {
   "cell_type": "code",
   "execution_count": 5,
   "id": "88deb399",
   "metadata": {},
   "outputs": [],
   "source": [
    "top_soil_data.fillna(0, axis=1, inplace=True)"
   ]
  },
  {
   "cell_type": "markdown",
   "id": "0398cf0b",
   "metadata": {},
   "source": [
    "## Seeds collected on a bare rock"
   ]
  },
  {
   "cell_type": "code",
   "execution_count": 6,
   "id": "e0944582",
   "metadata": {},
   "outputs": [
    {
     "data": {
      "text/plain": [
       "5.747593582887701"
      ]
     },
     "execution_count": 6,
     "metadata": {},
     "output_type": "execute_result"
    }
   ],
   "source": [
    "mgt_br = MGT(bare_rock_data)\n",
    "mgt_br"
   ]
  },
  {
   "cell_type": "code",
   "execution_count": 7,
   "id": "156c30a8",
   "metadata": {},
   "outputs": [
    {
     "name": "stdout",
     "output_type": "stream",
     "text": [
      "Ng = 935.0\n"
     ]
    },
    {
     "data": {
      "text/plain": [
       "93.5"
      ]
     },
     "execution_count": 7,
     "metadata": {},
     "output_type": "execute_result"
    }
   ],
   "source": [
    "gp_br = GP(bare_rock_data, 50*bare_rock_data.shape[0])\n",
    "gp_br"
   ]
  },
  {
   "cell_type": "code",
   "execution_count": 8,
   "id": "d88c5bda",
   "metadata": {},
   "outputs": [
    {
     "data": {
      "text/plain": [
       "0.21371136735792234"
      ]
     },
     "execution_count": 8,
     "metadata": {},
     "output_type": "execute_result"
    }
   ],
   "source": [
    "z_br = Z(bare_rock_data)\n",
    "z_br"
   ]
  },
  {
   "cell_type": "markdown",
   "id": "2dd41dd7",
   "metadata": {},
   "source": [
    "## Seeds collected on a top soil"
   ]
  },
  {
   "cell_type": "code",
   "execution_count": 9,
   "id": "c56149fb",
   "metadata": {},
   "outputs": [
    {
     "data": {
      "text/plain": [
       "7.932285368802902"
      ]
     },
     "execution_count": 9,
     "metadata": {},
     "output_type": "execute_result"
    }
   ],
   "source": [
    "mgt_ts = MGT(top_soil_data)\n",
    "mgt_ts"
   ]
  },
  {
   "cell_type": "code",
   "execution_count": 10,
   "id": "a93620c2",
   "metadata": {},
   "outputs": [
    {
     "name": "stdout",
     "output_type": "stream",
     "text": [
      "Ng = 827.0\n"
     ]
    },
    {
     "data": {
      "text/plain": [
       "82.69999999999999"
      ]
     },
     "execution_count": 10,
     "metadata": {},
     "output_type": "execute_result"
    }
   ],
   "source": [
    "gp_ts = GP(top_soil_data, 50*top_soil_data.shape[0])\n",
    "gp_ts"
   ]
  },
  {
   "cell_type": "code",
   "execution_count": 11,
   "id": "33a31df0",
   "metadata": {},
   "outputs": [
    {
     "data": {
      "text/plain": [
       "0.16074027012071404"
      ]
     },
     "execution_count": 11,
     "metadata": {},
     "output_type": "execute_result"
    }
   ],
   "source": [
    "z_br = Z(top_soil_data)\n",
    "z_br"
   ]
  }
 ],
 "metadata": {
  "kernelspec": {
   "display_name": "Python 3 (ipykernel)",
   "language": "python",
   "name": "python3"
  },
  "language_info": {
   "codemirror_mode": {
    "name": "ipython",
    "version": 3
   },
   "file_extension": ".py",
   "mimetype": "text/x-python",
   "name": "python",
   "nbconvert_exporter": "python",
   "pygments_lexer": "ipython3",
   "version": "3.9.13"
  }
 },
 "nbformat": 4,
 "nbformat_minor": 5
}
